{
 "cells": [
  {
   "cell_type": "code",
   "execution_count": 2,
   "id": "ca3c2666",
   "metadata": {},
   "outputs": [],
   "source": [
    "import pandas as pd"
   ]
  },
  {
   "cell_type": "code",
   "execution_count": 3,
   "id": "e6c8ac07",
   "metadata": {},
   "outputs": [],
   "source": [
    "import pandas as pd\n",
    "import numpy as np\n",
    "import seaborn as sns\n",
    "import matplotlib.pyplot as plt"
   ]
  },
  {
   "cell_type": "code",
   "execution_count": 4,
   "id": "a75b6a8a",
   "metadata": {},
   "outputs": [],
   "source": [
    "from sklearn.linear_model import LinearRegression\n",
    "from sklearn.linear_model import Ridge \n",
    "from sklearn.linear_model import Lasso\n",
    "from sklearn.linear_model import RidgeCV \n",
    "from sklearn.linear_model import LassoCV\n",
    "from sklearn.linear_model import ElasticNet\n",
    "from sklearn import linear_model\n",
    "from sklearn.model_selection import train_test_split\n",
    "from sklearn.metrics import r2_score,mean_squared_error"
   ]
  },
  {
   "cell_type": "code",
   "execution_count": 5,
   "id": "39fcca9b",
   "metadata": {},
   "outputs": [],
   "source": [
    "df = pd.read_csv(\"SeoulBikeData.csv\")"
   ]
  },
  {
   "cell_type": "code",
   "execution_count": 6,
   "id": "1180f5d9",
   "metadata": {},
   "outputs": [
    {
     "data": {
      "text/html": [
       "<div>\n",
       "<style scoped>\n",
       "    .dataframe tbody tr th:only-of-type {\n",
       "        vertical-align: middle;\n",
       "    }\n",
       "\n",
       "    .dataframe tbody tr th {\n",
       "        vertical-align: top;\n",
       "    }\n",
       "\n",
       "    .dataframe thead th {\n",
       "        text-align: right;\n",
       "    }\n",
       "</style>\n",
       "<table border=\"1\" class=\"dataframe\">\n",
       "  <thead>\n",
       "    <tr style=\"text-align: right;\">\n",
       "      <th></th>\n",
       "      <th>Date</th>\n",
       "      <th>Rented Bike Count</th>\n",
       "      <th>Hour</th>\n",
       "      <th>Temperature(∞C)</th>\n",
       "      <th>Humidity(%)</th>\n",
       "      <th>Wind speed (m/s)</th>\n",
       "      <th>Visibility (10m)</th>\n",
       "      <th>Dew point temperature(∞C)</th>\n",
       "      <th>Solar Radiation (MJ/m2)</th>\n",
       "      <th>Rainfall(mm)</th>\n",
       "      <th>Snowfall (cm)</th>\n",
       "      <th>Seasons</th>\n",
       "      <th>Holiday</th>\n",
       "      <th>Functioning Day</th>\n",
       "    </tr>\n",
       "  </thead>\n",
       "  <tbody>\n",
       "    <tr>\n",
       "      <th>0</th>\n",
       "      <td>1/12/2017</td>\n",
       "      <td>254</td>\n",
       "      <td>0</td>\n",
       "      <td>-5.2</td>\n",
       "      <td>37</td>\n",
       "      <td>2.2</td>\n",
       "      <td>2000</td>\n",
       "      <td>-17.6</td>\n",
       "      <td>0.0</td>\n",
       "      <td>0.0</td>\n",
       "      <td>0.0</td>\n",
       "      <td>Winter</td>\n",
       "      <td>No Holiday</td>\n",
       "      <td>Yes</td>\n",
       "    </tr>\n",
       "    <tr>\n",
       "      <th>1</th>\n",
       "      <td>1/12/2017</td>\n",
       "      <td>204</td>\n",
       "      <td>1</td>\n",
       "      <td>-5.5</td>\n",
       "      <td>38</td>\n",
       "      <td>0.8</td>\n",
       "      <td>2000</td>\n",
       "      <td>-17.6</td>\n",
       "      <td>0.0</td>\n",
       "      <td>0.0</td>\n",
       "      <td>0.0</td>\n",
       "      <td>Winter</td>\n",
       "      <td>No Holiday</td>\n",
       "      <td>Yes</td>\n",
       "    </tr>\n",
       "    <tr>\n",
       "      <th>2</th>\n",
       "      <td>1/12/2017</td>\n",
       "      <td>173</td>\n",
       "      <td>2</td>\n",
       "      <td>-6.0</td>\n",
       "      <td>39</td>\n",
       "      <td>1.0</td>\n",
       "      <td>2000</td>\n",
       "      <td>-17.7</td>\n",
       "      <td>0.0</td>\n",
       "      <td>0.0</td>\n",
       "      <td>0.0</td>\n",
       "      <td>Winter</td>\n",
       "      <td>No Holiday</td>\n",
       "      <td>Yes</td>\n",
       "    </tr>\n",
       "    <tr>\n",
       "      <th>3</th>\n",
       "      <td>1/12/2017</td>\n",
       "      <td>107</td>\n",
       "      <td>3</td>\n",
       "      <td>-6.2</td>\n",
       "      <td>40</td>\n",
       "      <td>0.9</td>\n",
       "      <td>2000</td>\n",
       "      <td>-17.6</td>\n",
       "      <td>0.0</td>\n",
       "      <td>0.0</td>\n",
       "      <td>0.0</td>\n",
       "      <td>Winter</td>\n",
       "      <td>No Holiday</td>\n",
       "      <td>Yes</td>\n",
       "    </tr>\n",
       "    <tr>\n",
       "      <th>4</th>\n",
       "      <td>1/12/2017</td>\n",
       "      <td>78</td>\n",
       "      <td>4</td>\n",
       "      <td>-6.0</td>\n",
       "      <td>36</td>\n",
       "      <td>2.3</td>\n",
       "      <td>2000</td>\n",
       "      <td>-18.6</td>\n",
       "      <td>0.0</td>\n",
       "      <td>0.0</td>\n",
       "      <td>0.0</td>\n",
       "      <td>Winter</td>\n",
       "      <td>No Holiday</td>\n",
       "      <td>Yes</td>\n",
       "    </tr>\n",
       "  </tbody>\n",
       "</table>\n",
       "</div>"
      ],
      "text/plain": [
       "        Date  Rented Bike Count  Hour  Temperature(∞C)  Humidity(%)  \\\n",
       "0  1/12/2017                254     0             -5.2           37   \n",
       "1  1/12/2017                204     1             -5.5           38   \n",
       "2  1/12/2017                173     2             -6.0           39   \n",
       "3  1/12/2017                107     3             -6.2           40   \n",
       "4  1/12/2017                 78     4             -6.0           36   \n",
       "\n",
       "   Wind speed (m/s)  Visibility (10m)  Dew point temperature(∞C)  \\\n",
       "0               2.2              2000                      -17.6   \n",
       "1               0.8              2000                      -17.6   \n",
       "2               1.0              2000                      -17.7   \n",
       "3               0.9              2000                      -17.6   \n",
       "4               2.3              2000                      -18.6   \n",
       "\n",
       "   Solar Radiation (MJ/m2)  Rainfall(mm)  Snowfall (cm) Seasons     Holiday  \\\n",
       "0                      0.0           0.0            0.0  Winter  No Holiday   \n",
       "1                      0.0           0.0            0.0  Winter  No Holiday   \n",
       "2                      0.0           0.0            0.0  Winter  No Holiday   \n",
       "3                      0.0           0.0            0.0  Winter  No Holiday   \n",
       "4                      0.0           0.0            0.0  Winter  No Holiday   \n",
       "\n",
       "  Functioning Day  \n",
       "0             Yes  \n",
       "1             Yes  \n",
       "2             Yes  \n",
       "3             Yes  \n",
       "4             Yes  "
      ]
     },
     "execution_count": 6,
     "metadata": {},
     "output_type": "execute_result"
    }
   ],
   "source": [
    "df.head()"
   ]
  },
  {
   "attachments": {},
   "cell_type": "markdown",
   "id": "eb7a74f5",
   "metadata": {},
   "source": [
    "To verify there are no missing values in the data frame:"
   ]
  },
  {
   "cell_type": "code",
   "execution_count": 7,
   "id": "14b85abe",
   "metadata": {},
   "outputs": [
    {
     "data": {
      "text/plain": [
       "Date                         0\n",
       "Rented Bike Count            0\n",
       "Hour                         0\n",
       "Temperature(∞C)              0\n",
       "Humidity(%)                  0\n",
       "Wind speed (m/s)             0\n",
       "Visibility (10m)             0\n",
       "Dew point temperature(∞C)    0\n",
       "Solar Radiation (MJ/m2)      0\n",
       "Rainfall(mm)                 0\n",
       "Snowfall (cm)                0\n",
       "Seasons                      0\n",
       "Holiday                      0\n",
       "Functioning Day              0\n",
       "dtype: int64"
      ]
     },
     "execution_count": 7,
     "metadata": {},
     "output_type": "execute_result"
    }
   ],
   "source": [
    "df.isna().sum()"
   ]
  },
  {
   "attachments": {},
   "cell_type": "markdown",
   "id": "8f68a64f",
   "metadata": {},
   "source": [
    "To see the correlations between the variables:"
   ]
  },
  {
   "cell_type": "code",
   "execution_count": 8,
   "id": "dbe992a6",
   "metadata": {},
   "outputs": [
    {
     "name": "stderr",
     "output_type": "stream",
     "text": [
      "/var/folders/_x/qgd058bj0hb9l_991zk2z_940000gn/T/ipykernel_22071/1073366297.py:2: FutureWarning: The default value of numeric_only in DataFrame.corr is deprecated. In a future version, it will default to False. Select only valid columns or specify the value of numeric_only to silence this warning.\n",
      "  correlation = df.corr(\"pearson\")\n"
     ]
    },
    {
     "data": {
      "text/plain": [
       "<Axes: >"
      ]
     },
     "execution_count": 8,
     "metadata": {},
     "output_type": "execute_result"
    },
    {
     "data": {
      "image/png": "[encoded data removed]",
      "text/plain": [
       "<Figure size 720x720 with 2 Axes>"
      ]
     },
     "metadata": {
      "needs_background": "light"
     },
     "output_type": "display_data"
    }
   ],
   "source": [
    "plt.figure(figsize = (10,10))\n",
    "correlation = df.corr(\"pearson\")\n",
    "sns.heatmap(correlation, vmin = -1, vmax = 1, cmap = 'Blues', annot = True)\n"
   ]
  },
  {
   "attachments": {},
   "cell_type": "markdown",
   "id": "62e6a9df",
   "metadata": {},
   "source": [
    "We see that there is a high corelation between Temperature and Dew Point Temperature, so we are dropping Dew Point Temperature. We also see that there is high correlation between 'Rented Bike Count (y)' and 'Hour', 'Temperature', 'Solar Radiation', 'Visibility'. So we are dropping as they are not as important as the ones mentioned.\n"
   ]
  },
  {
   "attachments": {},
   "cell_type": "markdown",
   "id": "b8965697",
   "metadata": {},
   "source": [
    "Multiple Linear Regression"
   ]
  },
  {
   "cell_type": "code",
   "execution_count": 9,
   "id": "35c142cc",
   "metadata": {},
   "outputs": [],
   "source": [
    "X_MultipleLR = df.drop(['Rented Bike Count','Date','Dew point temperature(∞C)', 'Humidity(%)', 'Rainfall(mm)', 'Snowfall (cm)', 'Seasons', 'Holiday', 'Functioning Day', 'Wind speed (m/s)' ], axis=1)\n",
    "y = df.iloc[:, 1]\n",
    "x_train, x_test, y_train, y_test = train_test_split(X_MultipleLR, y, test_size = 0.27)\n"
   ]
  },
  {
   "cell_type": "code",
   "execution_count": 10,
   "id": "b4bb79a3",
   "metadata": {},
   "outputs": [],
   "source": [
    "linregfit = linear_model.LinearRegression().fit(x_train, y_train)\n",
    "predtrain = linregfit.predict(x_train)\n",
    "predtest = linregfit.predict(x_test)\n"
   ]
  },
  {
   "cell_type": "code",
   "execution_count": 11,
   "id": "ce58043c",
   "metadata": {},
   "outputs": [
    {
     "name": "stdout",
     "output_type": "stream",
     "text": [
      "For Multiple Linear Regression, R2 train score is : 0.4358116189910589 and the train root mean square is: 480.9385274025647\n",
      "For Multiple Linear Regression, R2 test score is : 0.42265668397157463 and the test root mean square is: 480.9385274025647\n"
     ]
    }
   ],
   "source": [
    "linreg_train_r2score = r2_score(y_train, predtrain)\n",
    "trainset_rmse = (np.sqrt(mean_squared_error(predtrain, y_train)))\n",
    "print('For Multiple Linear Regression, R2 train score is : {} and the train root mean square is: {}'\n",
    "     .format(linreg_train_r2score,trainset_rmse))\n",
    "\n",
    "linreg_test_r2score = r2_score(y_test, predtest)\n",
    "testset_rmse = (np.sqrt(mean_squared_error(predtest, y_test)))\n",
    "print('For Multiple Linear Regression, R2 test score is : {} and the test root mean square is: {}'\n",
    "     .format(linreg_test_r2score,trainset_rmse))\n"
   ]
  },
  {
   "attachments": {},
   "cell_type": "markdown",
   "id": "e410d37e",
   "metadata": {},
   "source": [
    "Ridge Regression with different values of alpha"
   ]
  },
  {
   "cell_type": "code",
   "execution_count": 12,
   "id": "2ff356b6",
   "metadata": {},
   "outputs": [],
   "source": [
    "X_RidgeRegression = df.drop(['Rented Bike Count','Date','Dew point temperature(∞C)', 'Humidity(%)', 'Rainfall(mm)', 'Snowfall (cm)', 'Seasons', 'Holiday', 'Functioning Day', 'Wind speed (m/s)'], axis=1)\n",
    "y = df.iloc[:, 1]\n",
    "x_train, x_test, y_train, y_test = train_test_split(X_RidgeRegression, y, test_size = 0.27)"
   ]
  },
  {
   "cell_type": "code",
   "execution_count": 18,
   "id": "d3a6273e",
   "metadata": {},
   "outputs": [
    {
     "name": "stdout",
     "output_type": "stream",
     "text": [
      "Alpha = 0.00\n",
      " R2 training: 0.43, R2 test: 0.44\n",
      "\n",
      "Alpha = 10.00\n",
      " R2 training: 0.43, R2 test: 0.44\n",
      "\n",
      "Alpha = 1000.00\n",
      " R2 training: 0.43, R2 test: 0.44\n",
      "\n",
      "Alpha = 5000.00\n",
      " R2 training: 0.43, R2 test: 0.44\n",
      "\n",
      "Alpha = 10000000.00\n",
      " R2 training: 0.10, R2 test: 0.09\n",
      "\n"
     ]
    }
   ],
   "source": [
    "error = []\n",
    "coefficients = []\n",
    "\n",
    "#different values for alpha\n",
    "alphas = [0, 10, 1000, 5000, 10000000]\n",
    "for alpha in alphas:\n",
    "    linridge = Ridge(alpha = alpha).fit(x_train, y_train)\n",
    "    linridge_train_r2score = linridge.score(x_train, y_train)\n",
    "    linridge_test_r2score = linridge.score(x_test, y_test)\n",
    "    coefficients.append(linridge.coef_)\n",
    "    error.append(np.mean(linridge.predict(x_test)-y_test) ** 2)\n",
    "    print('Alpha = {:.2f}\\n \\\n",
    "R2 training: {:.2f}, R2 test: {:.2f}\\n'\n",
    "      .format(alpha, linridge_train_r2score, linridge_test_r2score))"
   ]
  },
  {
   "attachments": {},
   "cell_type": "markdown",
   "id": "328a1b51",
   "metadata": {},
   "source": [
    "Lasso Regression with different values of alpha"
   ]
  },
  {
   "cell_type": "code",
   "execution_count": null,
   "id": "6c4e5023",
   "metadata": {},
   "outputs": [
    {
     "name": "stdout",
     "output_type": "stream",
     "text": [
      "Alpha = -4000.00\n",
      "     R2 training: -65.25, R2 test: -71.30\n",
      "\n",
      "Alpha = -1000.00\n",
      "     R2 training: -3.67, R2 test: -4.10\n",
      "\n",
      "Alpha = -10.00\n",
      "     R2 training: 0.44, R2 test: 0.42\n",
      "\n",
      "Alpha = 0.00\n",
      "     R2 training: 0.44, R2 test: 0.42\n",
      "\n",
      "Alpha = 10.00\n",
      "     R2 training: 0.44, R2 test: 0.42\n",
      "\n",
      "Alpha = 1000.00\n",
      "     R2 training: 0.38, R2 test: 0.36\n",
      "\n",
      "Alpha = 5000.00\n",
      "     R2 training: 0.04, R2 test: 0.04\n",
      "\n",
      "Alpha = 10000000.00\n",
      "     R2 training: 0.00, R2 test: -0.00\n",
      "\n"
     ]
    },
    {
     "name": "stderr",
     "output_type": "stream",
     "text": [
      "/Users/snehabhattacharya/opt/anaconda3/lib/python3.9/site-packages/sklearn/linear_model/_coordinate_descent.py:647: ConvergenceWarning: Objective did not converge. You might want to increase the number of iterations, check the scale of the features or consider increasing regularisation. Duality gap: 7.294e+08, tolerance: 2.687e+05 Linear regression models with null weight for the l1 regularization term are more efficiently fitted using one of the solvers implemented in sklearn.linear_model.Ridge/RidgeCV instead.\n",
      "  model = cd_fast.enet_coordinate_descent(\n",
      "/Users/snehabhattacharya/opt/anaconda3/lib/python3.9/site-packages/sklearn/linear_model/_coordinate_descent.py:647: ConvergenceWarning: Objective did not converge. You might want to increase the number of iterations, check the scale of the features or consider increasing regularisation. Duality gap: 2.448e+09, tolerance: 2.687e+05 Linear regression models with null weight for the l1 regularization term are more efficiently fitted using one of the solvers implemented in sklearn.linear_model.Ridge/RidgeCV instead.\n",
      "  model = cd_fast.enet_coordinate_descent(\n",
      "/Users/snehabhattacharya/opt/anaconda3/lib/python3.9/site-packages/sklearn/linear_model/_coordinate_descent.py:647: ConvergenceWarning: Objective did not converge. You might want to increase the number of iterations, check the scale of the features or consider increasing regularisation. Duality gap: 3.012e+09, tolerance: 2.687e+05 Linear regression models with null weight for the l1 regularization term are more efficiently fitted using one of the solvers implemented in sklearn.linear_model.Ridge/RidgeCV instead.\n",
      "  model = cd_fast.enet_coordinate_descent(\n",
      "/var/folders/_x/qgd058bj0hb9l_991zk2z_940000gn/T/ipykernel_44219/467742267.py:7: UserWarning: With alpha=0, this algorithm does not converge well. You are advised to use the LinearRegression estimator\n",
      "  linlasso = Lasso(alpha = items).fit(x_train, y_train)\n",
      "/Users/snehabhattacharya/opt/anaconda3/lib/python3.9/site-packages/sklearn/linear_model/_coordinate_descent.py:647: UserWarning: Coordinate descent with no regularization may lead to unexpected results and is discouraged.\n",
      "  model = cd_fast.enet_coordinate_descent(\n",
      "/Users/snehabhattacharya/opt/anaconda3/lib/python3.9/site-packages/sklearn/linear_model/_coordinate_descent.py:647: ConvergenceWarning: Objective did not converge. You might want to increase the number of iterations, check the scale of the features or consider increasing regularisation. Duality gap: 7.553e+08, tolerance: 2.687e+05 Linear regression models with null weight for the l1 regularization term are more efficiently fitted using one of the solvers implemented in sklearn.linear_model.Ridge/RidgeCV instead.\n",
      "  model = cd_fast.enet_coordinate_descent(\n"
     ]
    }
   ],
   "source": [
    "error = []\n",
    "coefficients = []\n",
    "\n",
    "#different values for alpha\n",
    "alphas = [-4000, -1000, -10, 0, 10, 1000, 5000, 10000000]\n",
    "for items in alphas:\n",
    "    linlasso = Lasso(alpha = items).fit(x_train, y_train)\n",
    "    linlasso_train_r2score = linlasso.score(x_train, y_train)\n",
    "    linlasso_test_r2score = linlasso.score(x_test, y_test)\n",
    "    coefficients.append(linlasso.coef_)\n",
    "    error.append(np.mean(linlasso.predict(x_test)-y_test) ** 2)\n",
    "    print('Alpha = {:.2f}\\n \\\n",
    "    R2 training: {:.2f}, R2 test: {:.2f}\\n'\n",
    "      .format(items, linlasso_train_r2score, linlasso_test_r2score))"
   ]
  },
  {
   "attachments": {},
   "cell_type": "markdown",
   "id": "f1414f7e",
   "metadata": {},
   "source": [
    "The best R2 scores are that from Ridge: \n",
    "\n",
    "R2 training: 0.44, R2 test: 0.42"
   ]
  }
 ],
 "metadata": {
  "kernelspec": {
   "display_name": "Python 3 (ipykernel)",
   "language": "python",
   "name": "python3"
  },
  "language_info": {
   "codemirror_mode": {
    "name": "ipython",
    "version": 3
   },
   "file_extension": ".py",
   "mimetype": "text/x-python",
   "name": "python",
   "nbconvert_exporter": "python",
   "pygments_lexer": "ipython3",
   "version": "3.9.7"
  }
 },
 "nbformat": 4,
 "nbformat_minor": 5
}
